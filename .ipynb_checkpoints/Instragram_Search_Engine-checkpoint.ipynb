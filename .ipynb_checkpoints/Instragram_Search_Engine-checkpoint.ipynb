{
 "cells": [
  {
   "cell_type": "code",
   "execution_count": null,
   "id": "673a71e1",
   "metadata": {},
   "outputs": [],
   "source": [
    "!python --version"
   ]
  },
  {
   "cell_type": "raw",
   "id": "217b9d5e",
   "metadata": {},
   "source": [
    "Aşağıdaki işlemleri yapabilmeniz için Instagram ve facebook hesabiniz business olmali\n",
    "\n",
    "https://developers.facebook.com/\n",
    "\n",
    "Facebook hesabinizla login ol\n",
    "\n",
    "Sag ust menudeki My Apps kismina tikla\n",
    "\n",
    "Sol tarafta apps filtresinden All Apps'i sec.\n",
    "\n",
    "Sag taraftaki Cretap App kismina tikla\n",
    "\n",
    "Select an app type icin isletme/business secenegini secin\n",
    "\n",
    "Add an app name: uygulamaniza isim verin\n",
    "\n",
    "app contact email: kontakt emailinizi yazin\n",
    "\n",
    "Devam tusuna basin\n",
    "\n",
    "Yeni sayfaya yonlendirileceksiniz.\n",
    "\n",
    "- Access_token: https://developers.facebook.com/docs/facebook-login/guides/access-tokens\n",
    "\n",
    "- Client_id: Ayarlar'dan App ID: Settings/Basic/App ID   \n",
    "\n",
    "- Client_secret: Ayarlar'dan App Secret: Settings/Basic/App Secret  \n",
    "\n",
    "- Page_id: Business Facebook hesabınızın ana sayfasında About sekmesine tıklayarak: Facebook Page ID\n",
    "\n",
    "- Instagram_account_id: Instagram API tokenı sekmesinden\n",
    "\n",
    "Bu tokenları yaratırken hesabınızda vermeniz gereken izinler:\n",
    "\n",
    "pages_show_list\n",
    "instagram_basic\n",
    "instagram_content_publish\n",
    "pages_read_engagement\n",
    "public_profile"
   ]
  },
  {
   "cell_type": "code",
   "execution_count": null,
   "id": "def7ef39",
   "metadata": {},
   "outputs": [],
   "source": [
    "import requests\n",
    "import json\n",
    "import datetime\n",
    "import pandas as pd"
   ]
  },
  {
   "cell_type": "code",
   "execution_count": null,
   "id": "a632c8fe",
   "metadata": {},
   "outputs": [],
   "source": [
    "access_token = \"\"\n",
    "client_id = \"\"\n",
    "client_secret = \"\"\n",
    "page_id = \"\"\n",
    "instagram_account_id = \"\"\n",
    "ig_username = \"\""
   ]
  },
  {
   "cell_type": "code",
   "execution_count": null,
   "id": "003bc65b",
   "metadata": {},
   "outputs": [],
   "source": [
    "params = dict()\n",
    "params['access_token'] = access_token        \n",
    "params['client_id'] = client_id\n",
    "params['client_secret'] = client_secret\n",
    "params['graph_domain'] = 'https://graph.facebook.com'\n",
    "params['graph_version'] = 'v13.0'\n",
    "params['endpoint_base'] = params['graph_domain'] + '/' + params['graph_version'] + '/'\n",
    "params['page_id'] = page_id           \n",
    "params['instagram_account_id'] = instagram_account_id\n",
    "params['ig_username'] = ig_username"
   ]
  },
  {
   "cell_type": "code",
   "execution_count": null,
   "id": "2bb7a3f2",
   "metadata": {},
   "outputs": [],
   "source": [
    "#API keyleriniz guncel mi diye kontrol edin\n",
    "endpointParams = dict()\n",
    "endpointParams['input_token'] = params['access_token']\n",
    "endpointParams['access_token'] = params['access_token']\n",
    "\n",
    "# Define URL\n",
    "url = params['graph_domain'] + '/debug_token'\n",
    "# Requests Data\n",
    "try:\n",
    "    data = requests.get(url, endpointParams)\n",
    "    access_token_data = json.loads(data.content)\n",
    "    \n",
    "except Exception as err:\n",
    "    print(err)\n",
    "\n",
    "print(\"Token Expires: \", datetime.datetime.fromtimestamp(\n",
    "    access_token_data['data']['expires_at']))"
   ]
  },
  {
   "cell_type": "code",
   "execution_count": null,
   "id": "b93bc877",
   "metadata": {},
   "outputs": [],
   "source": [
    "#Hesabinizda goreceginiz diger kullanicilarin paylasimlarini gorun\n",
    "url = params['endpoint_base'] + params['instagram_account_id'] + '/media'\n",
    "\n",
    "# Define Endpoint Parameters\n",
    "endpointParams = dict()\n",
    "endpointParams['fields'] = 'id,caption,media_type,media_url,permalink,thumbnail_url,timestamp,username,like_count,comments_count'\n",
    "endpointParams['access_token'] = params['access_token']\n",
    "\n",
    "# Requests Data\n",
    "data = requests.get(url, endpointParams)\n",
    "basic_insight = json.loads(data.content)"
   ]
  },
  {
   "cell_type": "code",
   "execution_count": null,
   "id": "47ead3cc",
   "metadata": {},
   "outputs": [],
   "source": [
    "#Cektiginiz bu datayi veri tablasonua donusturun\n",
    "df = pd.DataFrame(basic_insight['data'])\n",
    "df.columns = ['id', 'Caption', 'Media_Type', 'Media_URL',\n",
    "              'Permalink', 'Timestamp', 'Username', 'Likes', 'Comments']\n",
    "df.head()"
   ]
  },
  {
   "cell_type": "code",
   "execution_count": null,
   "id": "f98a3226",
   "metadata": {},
   "outputs": [],
   "source": [
    "df.columns"
   ]
  },
  {
   "cell_type": "code",
   "execution_count": null,
   "id": "05e6e99a",
   "metadata": {},
   "outputs": [],
   "source": [
    "for col in df.columns:\n",
    "    print(col)"
   ]
  },
  {
   "cell_type": "code",
   "execution_count": null,
   "id": "43b84349",
   "metadata": {},
   "outputs": [],
   "source": [
    "df=df.dropna()"
   ]
  },
  {
   "cell_type": "code",
   "execution_count": null,
   "id": "c2eb5094",
   "metadata": {},
   "outputs": [],
   "source": [
    "df.info()"
   ]
  },
  {
   "cell_type": "code",
   "execution_count": null,
   "id": "e9b94acf",
   "metadata": {},
   "outputs": [],
   "source": [
    "df=df.drop_duplicates()"
   ]
  },
  {
   "cell_type": "code",
   "execution_count": null,
   "id": "1aefa482",
   "metadata": {},
   "outputs": [],
   "source": [
    "df.info()"
   ]
  },
  {
   "cell_type": "code",
   "execution_count": null,
   "id": "d9e08883",
   "metadata": {},
   "outputs": [],
   "source": [
    "hedef = df.loc[(((df.Caption.str.contains('DEPREM')) & (df.Caption.str.contains('ENKAZ'))) & ((df.str.contains('MAHALLE')) & (df.str.contains('SOKAK'))))]\n",
    "len(hedef)"
   ]
  },
  {
   "cell_type": "code",
   "execution_count": null,
   "id": "7f1f503c",
   "metadata": {},
   "outputs": [],
   "source": []
  },
  {
   "cell_type": "code",
   "execution_count": null,
   "id": "15111e4e",
   "metadata": {},
   "outputs": [],
   "source": []
  }
 ],
 "metadata": {
  "kernelspec": {
   "display_name": "Python 3 (ipykernel)",
   "language": "python",
   "name": "python3"
  },
  "language_info": {
   "codemirror_mode": {
    "name": "ipython",
    "version": 3
   },
   "file_extension": ".py",
   "mimetype": "text/x-python",
   "name": "python",
   "nbconvert_exporter": "python",
   "pygments_lexer": "ipython3",
   "version": "3.9.13"
  }
 },
 "nbformat": 4,
 "nbformat_minor": 5
}
